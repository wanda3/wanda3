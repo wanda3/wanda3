{
  "nbformat": 4,
  "nbformat_minor": 0,
  "metadata": {
    "colab": {
      "name": "Projeto Album de figurinhas.ipynb",
      "provenance": [],
      "collapsed_sections": [],
      "authorship_tag": "ABX9TyPxtyl1y67Ypcuq2d2FNzfS",
      "include_colab_link": true
    },
    "kernelspec": {
      "name": "python3",
      "display_name": "Python 3"
    },
    "language_info": {
      "name": "python"
    }
  },
  "cells": [
    {
      "cell_type": "markdown",
      "metadata": {
        "id": "view-in-github",
        "colab_type": "text"
      },
      "source": [
        "<a href=\"https://colab.research.google.com/github/wanda3/wanda3/blob/main/Projeto_Album_de_figurinhas.ipynb\" target=\"_parent\"><img src=\"https://colab.research.google.com/assets/colab-badge.svg\" alt=\"Open In Colab\"/></a>"
      ]
    },
    {
      "cell_type": "code",
      "metadata": {
        "id": "IeLfGKmoD8Ut"
      },
      "source": [
        "n_album = 212\n",
        "preco_pacote = 4\n",
        "cromos_por_pacote = 4\n",
        "preco_album = 10"
      ],
      "execution_count": null,
      "outputs": []
    },
    {
      "cell_type": "code",
      "metadata": {
        "id": "4dbtJ64GLsx4"
      },
      "source": [
        "def SimulaAlbum():\n",
        "  album = np.zeros (n_album)\n",
        "  pacotes = 0\n",
        "\n",
        "  while True:\n",
        "    pacotinho = np.random.choice (np.arange(0 , n_album) , size = 4)\n",
        "    pacotes += 1\n",
        "    for i in [0, 1, 2, 3]:\n",
        "      album [pacotinho [i]] += 1\n",
        "    if np.all (album >= 1):\n",
        "      break\n",
        "\n",
        "  custo = pacotes*preco_pacote + preco_album\n",
        "  return custo\n"
      ],
      "execution_count": null,
      "outputs": []
    },
    {
      "cell_type": "code",
      "metadata": {
        "colab": {
          "base_uri": "https://localhost:8080/"
        },
        "id": "heAzZTxgl-ip",
        "outputId": "e2624910-85c4-41cb-ca98-fb82c42a5ec9"
      },
      "source": [
        "sim"
      ],
      "execution_count": null,
      "outputs": [
        {
          "output_type": "execute_result",
          "data": {
            "text/plain": [
              "array([ 982, 1466, 1942, 1374, 1378,  954, 1602, 1630, 1278, 1142, 1158,\n",
              "       1298,  922, 1542, 1406,  838,  978, 1170, 1262, 1354, 1178, 1646,\n",
              "       1222,  910, 1070, 1238, 1286, 1262,  906, 1234, 1290, 1278,  998,\n",
              "       1382, 1362, 1026, 1050, 1654, 1646, 1798, 1414, 1018, 1442,  902,\n",
              "       1442,  922, 1602, 1286, 1234, 1370, 1262, 1370, 1246, 1626, 1322,\n",
              "        970,  882, 1470, 1082, 1226, 1258, 1290, 1566, 1038, 1094, 1074,\n",
              "       1190, 1014,  970,  994, 1090, 1274, 1126, 1646, 1350, 1166, 1054,\n",
              "       1374, 1906, 1130, 1170, 1490, 1014, 1614, 1494, 1790, 1170, 1218,\n",
              "       1238, 1046, 1134, 1578,  946, 1010,  882, 1162, 1110, 1114, 1246,\n",
              "       1666, 1318, 1022, 1630, 1458, 1230, 1594, 1234, 1374, 1534, 1418,\n",
              "       1270,  910, 1034, 1406, 1154, 1806, 1210, 1470, 1142, 1102, 1582,\n",
              "       1430,  818, 1210, 1758, 1382, 1370, 1582, 1222, 1586, 1410, 1226,\n",
              "       1310, 1846, 1174, 1186, 1150, 1482, 1258, 1122, 1042, 1406,  918,\n",
              "       1370, 1186, 1174, 1458, 1050, 1186, 1170, 1222, 1714, 1170,  874,\n",
              "       1106, 1226, 1542,  974,  982, 1358, 1226, 1094, 1238, 1126, 1690,\n",
              "       1534, 1694, 1130,  870,  998, 1702, 1198, 1206, 1022, 1286, 1910,\n",
              "       1422,  850, 1290, 1198, 1578, 1210, 1278, 1082, 1078, 1566, 1066,\n",
              "       1522, 1222, 1190, 1766, 1574, 1154, 1602, 1106, 1706, 1486, 1026,\n",
              "       1202, 1386, 1038, 1110, 1394, 1614, 1062, 1122, 1370, 1890, 1234,\n",
              "       1410, 1134, 1046, 1042, 1022, 1654, 1338, 1250, 1142, 1490, 1062,\n",
              "       1038, 1026, 1126, 1338,  910, 1542, 1314, 1298, 1434, 1106, 1118,\n",
              "       1178, 1094, 1638, 1086, 1458, 1078, 1142, 1358, 1410, 1626,  970,\n",
              "       1414, 1606,  970, 1178, 1126, 1210, 1194, 1266, 1074, 1334, 1162,\n",
              "       1606,  926, 1086, 1238, 1454, 1582, 1374, 1414, 1602, 1270, 1462,\n",
              "       1198, 1030, 1542, 1062, 1190, 1106, 1110, 1634, 1306,  854, 1434,\n",
              "       1334, 1174,  962, 1178, 1110, 1354, 1630, 1398, 1074, 1106, 1462,\n",
              "       1666, 1058, 1306, 1106, 1238, 1622, 1490, 1930, 1142, 1574, 1410,\n",
              "       1298, 1258, 1118, 1166, 1794, 1178, 1682, 1058, 1010,  826, 1214,\n",
              "        942,  970, 1006, 1262, 1314, 1086, 1366, 1146, 1442, 1582, 1470,\n",
              "       1362, 1590, 1618, 1350, 1766,  846, 1014, 1830,  922, 1074, 1410,\n",
              "       1198, 1518, 1414, 1158,  982,  902, 1282, 1294, 1578, 1262, 1002,\n",
              "       1370, 1518, 1358, 1074, 1202, 1318, 1046, 1314,  918, 1538, 1010,\n",
              "       1206, 1106, 1522, 1162, 1462, 1542, 1302, 1838, 1026, 1430, 1198,\n",
              "       1594, 1558, 1002, 1810, 1006, 1782,  854, 1622, 1362, 1386, 1258,\n",
              "       1086, 1510, 1814, 1226, 1350, 1118, 1242, 1570, 1658, 1238, 1434,\n",
              "       1458, 1262,  870, 1338, 1322, 1446, 1414, 1034, 1226, 1314, 1314,\n",
              "       1398, 1538, 1942, 1294, 1166, 1054, 1130, 1262, 1410,  982, 1342,\n",
              "       1446, 1514, 1162, 1286, 1334, 1506,  970, 1030, 1170, 1518, 1374,\n",
              "       1506,  918, 1162, 1154, 1042, 1174, 1118, 1502,  962, 1378, 1374,\n",
              "       1378, 1394, 1874, 1250, 1566, 1378, 1598, 1430, 1494, 1282, 2286,\n",
              "       1002, 1070, 1386, 1082, 1234, 1434, 1010,  982, 1334, 1530, 2034,\n",
              "       1682,  970, 1454,  942, 1650, 1178, 1170, 1574, 1490, 1186, 1222,\n",
              "        918,  990, 1694, 2190, 1090, 1038,  886, 1202, 1114, 1342,  946,\n",
              "       1386, 1262, 1330,  962, 1182, 1542, 1314, 1518, 1310, 1266, 2266,\n",
              "       1334, 1630, 1234, 1178, 1034,  990, 1050,  966, 1086, 1242, 1014,\n",
              "       1638, 1422,  926, 1106, 1806, 1274, 1074, 1746, 1194,  914,  970,\n",
              "       1614, 1018,  966, 1834, 1390, 1214, 1086, 1358, 1190, 1102, 1182,\n",
              "       1194,  934, 1438, 1462, 1182, 1438, 1466, 1402,  978, 1118, 1510,\n",
              "       1650, 1026, 1114, 1070, 1738, 1698, 2214, 1518, 1298, 1014, 1050,\n",
              "       1062, 1454, 1318, 1534, 1154, 1566, 1386, 1182, 1290, 1846, 1270,\n",
              "       1258, 1650, 1058, 1434, 1454, 1278, 1050, 1290, 1498, 1102, 1242,\n",
              "       1102, 1414, 1386, 1314, 2034, 1622, 1434,  958, 1974, 1126, 1486,\n",
              "       1158, 1386, 1058,  926, 1126, 1310, 1034,  962, 1022, 1814, 1118,\n",
              "       1114, 1894,  998, 1006,  858, 1738, 1178, 1182, 1322, 1578, 1198,\n",
              "       1062, 1018,  958, 1234,  874, 1082,  918, 1594, 1446, 1294, 1238,\n",
              "       1458, 1634, 1814, 1390, 1266,  930, 1354, 1014, 1014, 1786, 1126,\n",
              "       1174, 1658, 1950, 1214, 1310, 1238,  998, 1038, 1374,  822, 1174,\n",
              "       2326, 1238, 1022, 1198,  994, 1282, 1306, 1274,  798, 1494, 1362,\n",
              "       1450, 1326, 1054, 1154, 1042, 1030,  826, 1394, 1094, 1378, 1426,\n",
              "       1054, 1742, 1162, 1434, 1550, 1382, 1182, 1414,  982, 1262, 1622,\n",
              "       1202, 1058, 1006, 1034, 1522, 1306, 1130,  922, 1358, 1510, 1034,\n",
              "       1102, 1002, 1114, 1282, 1110, 1410, 1482, 1042, 1102,  990, 1150,\n",
              "       1146, 1226, 1070, 1418, 1130, 1006, 1426,  946,  998, 1062, 2058,\n",
              "       1186, 1310, 1550, 1118, 1374,  898, 1742,  986, 1686,  858, 1390,\n",
              "       1114, 1178, 1058, 1354, 1238, 1134, 1190, 1250, 1446, 1166, 1330,\n",
              "       1742, 1266,  890, 1266, 1194, 1142, 1158, 1246, 1114, 1998, 1190,\n",
              "       1118, 1158, 1202, 1010, 1078, 1330, 1066, 1446, 1350, 1154, 1998,\n",
              "       1134, 1182, 1070, 1030,  994, 1430, 1666,  902, 1434, 1858, 1338,\n",
              "       1506, 1030, 1866, 1382, 1306, 1410, 1094, 1350,  938, 1190, 1182,\n",
              "       1078, 1370, 1962, 2154,  998,  950,  934, 1598, 1282, 1182,  946,\n",
              "        894, 1086, 1906, 1054, 1466, 1546, 1206, 1322,  958, 1042, 1242,\n",
              "       1214, 1090, 1658, 2098, 1106, 1358, 1598, 1138,  890, 1266, 1194,\n",
              "       1126, 1206, 1126, 1046, 2238, 1442, 1194, 1158, 1698, 1014, 1170,\n",
              "       1306, 1242, 1402, 1462, 1182, 1134, 1122, 1074, 1506, 1386, 1154,\n",
              "       1418, 1262, 1698, 1054, 1510, 1186, 1178, 1250, 1474, 1474, 1270,\n",
              "       1114, 1218, 1378, 1710, 1230, 1218, 1130, 1650, 1106,  894,  902,\n",
              "        922, 1138, 1422,  926, 1126, 1950, 1234, 1198, 1798, 1246, 1278,\n",
              "       1290, 1310, 1558, 1170, 1146, 1026, 1074, 1090, 1106,  950, 1070,\n",
              "       1550, 1522, 1346, 1042, 1026, 1334, 2022, 1346, 1142, 1030, 1414,\n",
              "       1238, 1178,  934, 1554,  902,  898, 1242, 1410, 1102, 1646, 1706,\n",
              "       1174, 1390, 1262, 1274, 1122,  938, 1210, 1094, 1386, 1238, 1610,\n",
              "       1386, 1046, 1106, 1546, 1446, 1146, 1466, 1074, 1082, 1178,  970,\n",
              "       1422, 1334, 1142, 1118, 1654,  886, 1002, 1342, 1458, 1510, 1054,\n",
              "       1430, 1494, 1322, 1458, 1350, 1038, 1562, 2294, 1502, 1130,  874,\n",
              "       1154, 1230, 1226, 1142,  834, 1134,  990,  906, 1014, 1042, 1782,\n",
              "        982,  990,  922, 1034, 1382, 1274, 1378, 1222, 1066, 1934, 1166,\n",
              "       1318, 1030, 1018, 1702, 1338, 1314, 1210, 1266, 1406, 1294, 1170,\n",
              "       2242,  986,  970, 1114,  782, 1210, 1326, 1622, 1782, 1162,  994,\n",
              "        862, 1282, 1186, 1134,  958, 1118, 1426, 1382, 1134, 1182, 1278,\n",
              "        942, 1034, 1574, 1206, 1858,  982, 1050, 1082,  966, 1310, 1174,\n",
              "       1970, 1066, 1246, 1054, 1010, 1230, 1546, 1354,  926,  962])"
            ]
          },
          "metadata": {
            "tags": []
          },
          "execution_count": 211
        }
      ]
    },
    {
      "cell_type": "code",
      "metadata": {
        "id": "HRiXsm-9R9PJ"
      },
      "source": [
        ""
      ],
      "execution_count": null,
      "outputs": []
    },
    {
      "cell_type": "code",
      "metadata": {
        "colab": {
          "base_uri": "https://localhost:8080/",
          "height": 283
        },
        "id": "3HIAnzP_mTp8",
        "outputId": "d8bfcc22-cc24-41f5-b7f8-d8ed9c4b7454"
      },
      "source": [
        "#Questão 3\n",
        "import matplotlib.pyplot as plt\n",
        "plt.hist(sim, bins = 20, density = True, color = 'royalblue', edgecolor = 'black')\n",
        "plt.title('Distribuição Empírica do Valor Gasto para Completar o Álbum')\n",
        "plt.show()\n"
      ],
      "execution_count": null,
      "outputs": [
        {
          "output_type": "display_data",
          "data": {
            "image/png": "[encoded data removed]",
            "text/plain": [
              "<Figure size 432x288 with 1 Axes>"
            ]
          },
          "metadata": {
            "tags": [],
            "needs_background": "light"
          }
        }
      ]
    },
    {
      "cell_type": "code",
      "metadata": {
        "colab": {
          "base_uri": "https://localhost:8080/",
          "height": 231
        },
        "id": "BdeEGGwZtvO9",
        "outputId": "61c107f2-4589-4cf4-8d92-2dc93353dbfe"
      },
      "source": [
        "# questoes 4 e 5 \n",
        "prob1 = sum(np.array(sim) < 1500) / simulacoes\n",
        "prob2 = sum(np.array(sim) > np.array(sim).mean()) / simulacoes\n",
        "\n",
        "print('A probabilidade de se gastar menos de 1500 é {:.2f}%'.format(prob1*100))\n",
        "print('A probabilidade de se gastar mais do que a média é {:.2f}%'.format(prob2*100))"
      ],
      "execution_count": null,
      "outputs": [
        {
          "output_type": "error",
          "ename": "NameError",
          "evalue": "ignored",
          "traceback": [
            "\u001b[0;31m---------------------------------------------------------------------------\u001b[0m",
            "\u001b[0;31mNameError\u001b[0m                                 Traceback (most recent call last)",
            "\u001b[0;32m<ipython-input-225-8ab8a3ed991e>\u001b[0m in \u001b[0;36m<module>\u001b[0;34m()\u001b[0m\n\u001b[1;32m      1\u001b[0m \u001b[0;31m# questoes 4 e 5\u001b[0m\u001b[0;34m\u001b[0m\u001b[0;34m\u001b[0m\u001b[0;34m\u001b[0m\u001b[0m\n\u001b[0;32m----> 2\u001b[0;31m \u001b[0mprob1\u001b[0m \u001b[0;34m=\u001b[0m \u001b[0msum\u001b[0m\u001b[0;34m(\u001b[0m\u001b[0mnp\u001b[0m\u001b[0;34m.\u001b[0m\u001b[0marray\u001b[0m\u001b[0;34m(\u001b[0m\u001b[0msim\u001b[0m\u001b[0;34m)\u001b[0m \u001b[0;34m<\u001b[0m \u001b[0;36m1500\u001b[0m\u001b[0;34m)\u001b[0m \u001b[0;34m/\u001b[0m \u001b[0msimulacoes\u001b[0m\u001b[0;34m\u001b[0m\u001b[0;34m\u001b[0m\u001b[0m\n\u001b[0m\u001b[1;32m      3\u001b[0m \u001b[0mprob2\u001b[0m \u001b[0;34m=\u001b[0m \u001b[0msum\u001b[0m\u001b[0;34m(\u001b[0m\u001b[0mnp\u001b[0m\u001b[0;34m.\u001b[0m\u001b[0marray\u001b[0m\u001b[0;34m(\u001b[0m\u001b[0msim\u001b[0m\u001b[0;34m)\u001b[0m \u001b[0;34m>\u001b[0m \u001b[0mnp\u001b[0m\u001b[0;34m.\u001b[0m\u001b[0marray\u001b[0m\u001b[0;34m(\u001b[0m\u001b[0msim\u001b[0m\u001b[0;34m)\u001b[0m\u001b[0;34m.\u001b[0m\u001b[0mmean\u001b[0m\u001b[0;34m(\u001b[0m\u001b[0;34m)\u001b[0m\u001b[0;34m)\u001b[0m \u001b[0;34m/\u001b[0m \u001b[0msimulacoes\u001b[0m\u001b[0;34m\u001b[0m\u001b[0;34m\u001b[0m\u001b[0m\n\u001b[1;32m      4\u001b[0m \u001b[0;34m\u001b[0m\u001b[0m\n\u001b[1;32m      5\u001b[0m \u001b[0mprint\u001b[0m\u001b[0;34m(\u001b[0m\u001b[0;34m'A probabilidade de se gastar menos de 1500 é {:.2f}%'\u001b[0m\u001b[0;34m.\u001b[0m\u001b[0mformat\u001b[0m\u001b[0;34m(\u001b[0m\u001b[0mprob1\u001b[0m\u001b[0;34m*\u001b[0m\u001b[0;36m100\u001b[0m\u001b[0;34m)\u001b[0m\u001b[0;34m)\u001b[0m\u001b[0;34m\u001b[0m\u001b[0;34m\u001b[0m\u001b[0m\n",
            "\u001b[0;31mNameError\u001b[0m: name 'simulacoes' is not defined"
          ]
        }
      ]
    }
  ]
}